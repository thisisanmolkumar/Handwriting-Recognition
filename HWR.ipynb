{
  "nbformat": 4,
  "nbformat_minor": 0,
  "metadata": {
    "colab": {
      "name": "HWR",
      "provenance": [],
      "collapsed_sections": []
    },
    "kernelspec": {
      "name": "python3",
      "display_name": "Python 3"
    },
    "language_info": {
      "name": "python"
    },
    "accelerator": "GPU"
  },
  "cells": [
    {
      "cell_type": "markdown",
      "metadata": {
        "id": "4CjCPVhNHzWL"
      },
      "source": [
        "# Handwriting Recognition"
      ]
    },
    {
      "cell_type": "markdown",
      "metadata": {
        "id": "CktEYTyPH3aY"
      },
      "source": [
        "## Importing libraries"
      ]
    },
    {
      "cell_type": "code",
      "metadata": {
        "id": "UfXJ6KZa7S2V"
      },
      "source": [
        "from keras.models import Sequential\n",
        "from keras.layers import Conv2D, MaxPooling2D, BatchNormalization, Dropout, Flatten, Dense\n",
        "from keras.datasets import mnist\n",
        "from keras.preprocessing.image import ImageDataGenerator as IDG\n",
        "import seaborn as sns\n",
        "import numpy as np\n",
        "import pandas as pd\n",
        "import matplotlib.pyplot as plt\n",
        "from random import randint"
      ],
      "execution_count": null,
      "outputs": []
    },
    {
      "cell_type": "markdown",
      "metadata": {
        "id": "lnc_upjjH7hE"
      },
      "source": [
        "## Loading MNIST data from keras.datasets"
      ]
    },
    {
      "cell_type": "code",
      "metadata": {
        "colab": {
          "base_uri": "https://localhost:8080/"
        },
        "id": "B2iwOguU7bu6",
        "outputId": "2f791a2a-4895-40f3-ce36-38b10bc01b06"
      },
      "source": [
        "(xTrain, yTrain), (xTest, yTest) = mnist.load_data()\n",
        "xTrain, xTest = xTrain / 255.0, xTest / 255.0"
      ],
      "execution_count": null,
      "outputs": [
        {
          "output_type": "stream",
          "text": [
            "Downloading data from https://storage.googleapis.com/tensorflow/tf-keras-datasets/mnist.npz\n",
            "11493376/11490434 [==============================] - 0s 0us/step\n"
          ],
          "name": "stdout"
        }
      ]
    },
    {
      "cell_type": "markdown",
      "metadata": {
        "id": "vFMNLfl0IBwQ"
      },
      "source": [
        "## Visualizing Data and Images"
      ]
    },
    {
      "cell_type": "code",
      "metadata": {
        "colab": {
          "base_uri": "https://localhost:8080/",
          "height": 298
        },
        "id": "U-aWUzNP8I_t",
        "outputId": "507f7ea2-7afe-4fde-a916-7c2ef1b5acee"
      },
      "source": [
        "unique, counts = np.unique(yTrain, return_counts=True)\n",
        "data = {}\n",
        "data['Digits'] = [i for i in unique]\n",
        "data['Number of images'] = [i for i in counts]\n",
        "df = pd.DataFrame(data)\n",
        "sns.barplot(x='Digits', y='Number of images', data=df)"
      ],
      "execution_count": null,
      "outputs": [
        {
          "output_type": "execute_result",
          "data": {
            "text/plain": [
              "<matplotlib.axes._subplots.AxesSubplot at 0x7f536f82ed90>"
            ]
          },
          "metadata": {
            "tags": []
          },
          "execution_count": 3
        },
        {
          "output_type": "display_data",
          "data": {
            "image/png": "[encoded data removed]",
            "text/plain": [
              "<Figure size 432x288 with 1 Axes>"
            ]
          },
          "metadata": {
            "tags": [],
            "needs_background": "light"
          }
        }
      ]
    },
    {
      "cell_type": "code",
      "metadata": {
        "colab": {
          "base_uri": "https://localhost:8080/",
          "height": 287
        },
        "id": "BMSSlKdKBRXT",
        "outputId": "bd91efa8-fcb7-476a-b92e-3a0c247788dd"
      },
      "source": [
        "def showIm(n):\n",
        "    plt.imshow(np.array(xTrain[n]).reshape((28, 28)), cmap='binary_r')\n",
        "    plt.xlabel(f\"Value: {yTrain[n]}\", fontsize=18)\n",
        "    plt.show()\n",
        "\n",
        "showIm(randint(0, 10000))"
      ],
      "execution_count": null,
      "outputs": [
        {
          "output_type": "display_data",
          "data": {
            "image/png": "[encoded data removed]",
            "text/plain": [
              "<Figure size 432x288 with 1 Axes>"
            ]
          },
          "metadata": {
            "tags": [],
            "needs_background": "light"
          }
        }
      ]
    },
    {
      "cell_type": "code",
      "metadata": {
        "colab": {
          "base_uri": "https://localhost:8080/"
        },
        "id": "Gv0_bJeCFUT0",
        "outputId": "a5e50fc1-9327-469f-9753-06c1f7d29dd6"
      },
      "source": [
        "# Data input is supposed to be (28, 28, 1)\n",
        "xTrain = np.reshape(xTrain, (-1, 28, 28, 1))\n",
        "print(xTrain.shape)"
      ],
      "execution_count": null,
      "outputs": [
        {
          "output_type": "stream",
          "text": [
            "(60000, 28, 28, 1)\n"
          ],
          "name": "stdout"
        }
      ]
    },
    {
      "cell_type": "markdown",
      "metadata": {
        "id": "4kr9JEwAIQrf"
      },
      "source": [
        "## Image Data Generation and tweaking parameters"
      ]
    },
    {
      "cell_type": "code",
      "metadata": {
        "id": "lxxdxrFZDsjr"
      },
      "source": [
        "dataGeneration = IDG(\n",
        "    rotation_range=20,\n",
        "    zoom_range=0.2,\n",
        "    rescale=1./255,\n",
        "    validation_split=0.2\n",
        "    width_shift_range=0.1,\n",
        "    height_shift_range=0.1,\n",
        ")"
      ],
      "execution_count": null,
      "outputs": []
    },
    {
      "cell_type": "markdown",
      "metadata": {
        "id": "KGZ1XmnUIfAm"
      },
      "source": [
        "## Building model"
      ]
    },
    {
      "cell_type": "code",
      "metadata": {
        "colab": {
          "base_uri": "https://localhost:8080/"
        },
        "id": "oAy_DYoH76PK",
        "outputId": "30d030d5-04d7-48da-a880-882f9ed6221c"
      },
      "source": [
        "model = Sequential()\n",
        "\n",
        "model.add(Conv2D(16, 8, input_shape=(28, 28, 1), activation='relu', padding='same'))\n",
        "model.add(MaxPooling2D(pool_size=(2, 2)))\n",
        "model.add(BatchNormalization())\n",
        "model.add(Dropout(0.4))\n",
        "\n",
        "# model.add(Conv2D(32, 6, activation='relu', padding='same'))\n",
        "# model.add(MaxPooling2D(pool_size=(2, 2)))\n",
        "# model.add(BatchNormalization())\n",
        "# model.add(Dropout(0.3))\n",
        "\n",
        "model.add(Flatten())\n",
        "\n",
        "model.add(Dense(128, activation='relu'))\n",
        "model.add(BatchNormalization())\n",
        "model.add(Dropout(0.2))\n",
        "\n",
        "model.add(Dense(64, activation='relu'))\n",
        "model.add(BatchNormalization())\n",
        "model.add(Dropout(0.1))\n",
        "\n",
        "model.add(Dense(10, activation='softmax'))\n",
        "\n",
        "model.compile(optimizer='adam', loss='sparse_categorical_crossentropy', metrics=['accuracy'])\n",
        "model.summary()"
      ],
      "execution_count": null,
      "outputs": [
        {
          "output_type": "stream",
          "text": [
            "Model: \"sequential\"\n",
            "_________________________________________________________________\n",
            "Layer (type)                 Output Shape              Param #   \n",
            "=================================================================\n",
            "conv2d (Conv2D)              (None, 28, 28, 16)        1040      \n",
            "_________________________________________________________________\n",
            "max_pooling2d (MaxPooling2D) (None, 14, 14, 16)        0         \n",
            "_________________________________________________________________\n",
            "batch_normalization (BatchNo (None, 14, 14, 16)        64        \n",
            "_________________________________________________________________\n",
            "dropout (Dropout)            (None, 14, 14, 16)        0         \n",
            "_________________________________________________________________\n",
            "flatten (Flatten)            (None, 3136)              0         \n",
            "_________________________________________________________________\n",
            "dense (Dense)                (None, 128)               401536    \n",
            "_________________________________________________________________\n",
            "batch_normalization_1 (Batch (None, 128)               512       \n",
            "_________________________________________________________________\n",
            "dropout_1 (Dropout)          (None, 128)               0         \n",
            "_________________________________________________________________\n",
            "dense_1 (Dense)              (None, 64)                8256      \n",
            "_________________________________________________________________\n",
            "batch_normalization_2 (Batch (None, 64)                256       \n",
            "_________________________________________________________________\n",
            "dropout_2 (Dropout)          (None, 64)                0         \n",
            "_________________________________________________________________\n",
            "dense_2 (Dense)              (None, 10)                650       \n",
            "=================================================================\n",
            "Total params: 412,314\n",
            "Trainable params: 411,898\n",
            "Non-trainable params: 416\n",
            "_________________________________________________________________\n"
          ],
          "name": "stdout"
        }
      ]
    },
    {
      "cell_type": "markdown",
      "metadata": {
        "id": "_Rb8_uCHIhcE"
      },
      "source": [
        "## Model fitting"
      ]
    },
    {
      "cell_type": "code",
      "metadata": {
        "colab": {
          "base_uri": "https://localhost:8080/"
        },
        "id": "RqCA_IsOGXsO",
        "outputId": "e5c679e3-a9d5-46ab-b69e-7f85306d145c"
      },
      "source": [
        "trainDataGen = dataGeneration.flow(xTrain, yTrain, batch_size=64, subset='training')\n",
        "valDataGen = dataGeneration.flow(xTrain, yTrain, batch_size=64, subset='validation')\n",
        "\n",
        "model.fit(trainDataGen, validation_data=valDataGen, epochs=30)"
      ],
      "execution_count": null,
      "outputs": [
        {
          "output_type": "stream",
          "text": [
            "Epoch 1/30\n",
            "750/750 [==============================] - 47s 21ms/step - loss: 1.1686 - accuracy: 0.6192 - val_loss: 0.3889 - val_accuracy: 0.8877\n",
            "Epoch 2/30\n",
            "750/750 [==============================] - 16s 21ms/step - loss: 0.4178 - accuracy: 0.8666 - val_loss: 0.2013 - val_accuracy: 0.9368\n",
            "Epoch 3/30\n",
            "750/750 [==============================] - 16s 21ms/step - loss: 0.3259 - accuracy: 0.8972 - val_loss: 0.2521 - val_accuracy: 0.9237\n",
            "Epoch 4/30\n",
            "750/750 [==============================] - 16s 21ms/step - loss: 0.2836 - accuracy: 0.9091 - val_loss: 0.1634 - val_accuracy: 0.9512\n",
            "Epoch 5/30\n",
            "750/750 [==============================] - 16s 21ms/step - loss: 0.2526 - accuracy: 0.9194 - val_loss: 0.1387 - val_accuracy: 0.9555\n",
            "Epoch 6/30\n",
            "750/750 [==============================] - 16s 21ms/step - loss: 0.2408 - accuracy: 0.9262 - val_loss: 0.1977 - val_accuracy: 0.9408\n",
            "Epoch 7/30\n",
            "750/750 [==============================] - 15s 21ms/step - loss: 0.2302 - accuracy: 0.9277 - val_loss: 0.5828 - val_accuracy: 0.8327\n",
            "Epoch 8/30\n",
            "750/750 [==============================] - 15s 20ms/step - loss: 0.2212 - accuracy: 0.9301 - val_loss: 0.1270 - val_accuracy: 0.9580\n",
            "Epoch 9/30\n",
            "750/750 [==============================] - 15s 20ms/step - loss: 0.2118 - accuracy: 0.9313 - val_loss: 0.1139 - val_accuracy: 0.9653\n",
            "Epoch 10/30\n",
            "750/750 [==============================] - 15s 20ms/step - loss: 0.2006 - accuracy: 0.9350 - val_loss: 2.0483 - val_accuracy: 0.5249\n",
            "Epoch 11/30\n",
            "750/750 [==============================] - 15s 20ms/step - loss: 0.2183 - accuracy: 0.9316 - val_loss: 0.7238 - val_accuracy: 0.7852\n",
            "Epoch 12/30\n",
            "750/750 [==============================] - 15s 20ms/step - loss: 0.2090 - accuracy: 0.9353 - val_loss: 0.0962 - val_accuracy: 0.9692\n",
            "Epoch 13/30\n",
            "750/750 [==============================] - 15s 20ms/step - loss: 0.2009 - accuracy: 0.9368 - val_loss: 0.1082 - val_accuracy: 0.9663\n",
            "Epoch 14/30\n",
            "750/750 [==============================] - 15s 20ms/step - loss: 0.1946 - accuracy: 0.9376 - val_loss: 0.1107 - val_accuracy: 0.9640\n",
            "Epoch 15/30\n",
            "750/750 [==============================] - 15s 21ms/step - loss: 0.1816 - accuracy: 0.9420 - val_loss: 0.1055 - val_accuracy: 0.9677\n",
            "Epoch 16/30\n",
            "750/750 [==============================] - 15s 20ms/step - loss: 0.1697 - accuracy: 0.9458 - val_loss: 0.1526 - val_accuracy: 0.9524\n",
            "Epoch 17/30\n",
            "750/750 [==============================] - 15s 21ms/step - loss: 0.1838 - accuracy: 0.9421 - val_loss: 0.1012 - val_accuracy: 0.9689\n",
            "Epoch 18/30\n",
            "750/750 [==============================] - 15s 20ms/step - loss: 0.1708 - accuracy: 0.9468 - val_loss: 0.1009 - val_accuracy: 0.9681\n",
            "Epoch 19/30\n",
            "750/750 [==============================] - 15s 20ms/step - loss: 0.1718 - accuracy: 0.9452 - val_loss: 0.1625 - val_accuracy: 0.9504\n",
            "Epoch 20/30\n",
            "750/750 [==============================] - 15s 20ms/step - loss: 0.1707 - accuracy: 0.9470 - val_loss: 0.1028 - val_accuracy: 0.9696\n",
            "Epoch 21/30\n",
            "750/750 [==============================] - 15s 20ms/step - loss: 0.1712 - accuracy: 0.9467 - val_loss: 0.1016 - val_accuracy: 0.9668\n",
            "Epoch 22/30\n",
            "750/750 [==============================] - 15s 20ms/step - loss: 0.1653 - accuracy: 0.9494 - val_loss: 5.2254 - val_accuracy: 0.2476\n",
            "Epoch 23/30\n",
            "750/750 [==============================] - 15s 20ms/step - loss: 0.1601 - accuracy: 0.9493 - val_loss: 0.0765 - val_accuracy: 0.9758\n",
            "Epoch 24/30\n",
            "750/750 [==============================] - 15s 20ms/step - loss: 0.1582 - accuracy: 0.9493 - val_loss: 0.0857 - val_accuracy: 0.9722\n",
            "Epoch 25/30\n",
            "750/750 [==============================] - 15s 20ms/step - loss: 0.1562 - accuracy: 0.9515 - val_loss: 0.1545 - val_accuracy: 0.9535\n",
            "Epoch 26/30\n",
            "750/750 [==============================] - 15s 21ms/step - loss: 0.1589 - accuracy: 0.9498 - val_loss: 0.0996 - val_accuracy: 0.9699\n",
            "Epoch 27/30\n",
            "750/750 [==============================] - 15s 20ms/step - loss: 0.1627 - accuracy: 0.9493 - val_loss: 0.2225 - val_accuracy: 0.9230\n",
            "Epoch 28/30\n",
            "750/750 [==============================] - 16s 21ms/step - loss: 0.1474 - accuracy: 0.9532 - val_loss: 0.3392 - val_accuracy: 0.8932\n",
            "Epoch 29/30\n",
            "750/750 [==============================] - 16s 21ms/step - loss: 0.1499 - accuracy: 0.9528 - val_loss: 0.2105 - val_accuracy: 0.9305\n",
            "Epoch 30/30\n",
            "750/750 [==============================] - 16s 21ms/step - loss: 0.1484 - accuracy: 0.9545 - val_loss: 7.4428 - val_accuracy: 0.1327\n"
          ],
          "name": "stdout"
        },
        {
          "output_type": "execute_result",
          "data": {
            "text/plain": [
              "<tensorflow.python.keras.callbacks.History at 0x7f536f241d10>"
            ]
          },
          "metadata": {
            "tags": []
          },
          "execution_count": 8
        }
      ]
    },
    {
      "cell_type": "markdown",
      "metadata": {
        "id": "AZ4VF0bXIjwL"
      },
      "source": [
        "## Predicting on the test data"
      ]
    },
    {
      "cell_type": "code",
      "metadata": {
        "colab": {
          "base_uri": "https://localhost:8080/"
        },
        "id": "eIhmG9sgUcfT",
        "outputId": "811ce7fe-62a9-44fe-feb9-abbf28402994"
      },
      "source": [
        "pred = model.predict(np.reshape(xTest, (-1, 28, 28, 1)))\n",
        "yPred = [np.argmax(x) for x in pred]\n",
        "\n",
        "c = len(yPred)\n",
        "for i in range(len(yPred)):\n",
        "    if yPred[i] != yTest[i]:\n",
        "        c -= 1\n",
        "\n",
        "print(f\"Predicted Accuracy on Test set: {c * 100 / len(yPred)}%\")"
      ],
      "execution_count": null,
      "outputs": [
        {
          "output_type": "stream",
          "text": [
            "Predicted Accuracy on Test set: 56.29%\n"
          ],
          "name": "stdout"
        }
      ]
    },
    {
      "cell_type": "code",
      "metadata": {
        "id": "08V7tpn8ApzS"
      },
      "source": [
        ""
      ],
      "execution_count": null,
      "outputs": []
    }
  ]
}